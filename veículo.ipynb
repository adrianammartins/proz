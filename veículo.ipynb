{
  "nbformat": 4,
  "nbformat_minor": 0,
  "metadata": {
    "colab": {
      "provenance": [],
      "authorship_tag": "ABX9TyPu4mpqUyUi4thVnL7H8Qqo"
    },
    "kernelspec": {
      "name": "python3",
      "display_name": "Python 3"
    },
    "language_info": {
      "name": "python"
    }
  },
  "cells": [
    {
      "cell_type": "code",
      "source": [
        "quantidade_rodas = int(input(\"informe q quantidade de rodas do veículo: \"))\n",
        "peso_bruto = float(input(\"Informe o peso bruto em quilogramas: \"))\n",
        "quantidade_pessoas= int(input(\"Informe a quantidade de pessoas no veículo: \"))\n",
        "\n",
        "if(quantidade_rodas == 2) or (quantidade_rodas == 3):\n",
        "  print(\"Categoria A\")\n",
        "elif(quantidade_rodas == 4) and (quantidade_pessoas == 8) and (peso_bruto <= 3500):\n",
        "    print(\"Categoria B\")\n",
        "elif(quantidade_rodas >= 4) and (3500> peso_bruto< 6000):\n",
        "      print(\"Categoria C\")\n",
        "elif (quantidade_rodas >= 4) and (quantidade_pessoas >= 8):\n",
        "        print(\"Categoria D\")\n",
        "elif(quantidade_rodas >=4) and (peso_bruto > 6000):\n",
        "          print(\"categoria D\")\n",
        "else:\n",
        "          print(\"categoria desconhecida\")\n"
      ],
      "metadata": {
        "colab": {
          "base_uri": "https://localhost:8080/"
        },
        "id": "qeipqYsshJwW",
        "outputId": "ac9dd6b4-c507-407f-8ccd-ae8a4b867281"
      },
      "execution_count": 9,
      "outputs": [
        {
          "output_type": "stream",
          "name": "stdout",
          "text": [
            "informe q quantidade de rodas do veículo: 4\n",
            "Informe o peso bruto em quilogramas: 3000\n",
            "Informe a quantidade de pessoas no veículo: 4\n",
            "Categoria C\n"
          ]
        }
      ]
    }
  ]
}